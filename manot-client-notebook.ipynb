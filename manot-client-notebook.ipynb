{
 "cells": [
  {
   "cell_type": "markdown",
   "source": [
    "# Installing manot"
   ],
   "metadata": {
    "collapsed": false
   }
  },
  {
   "cell_type": "code",
   "execution_count": null,
   "outputs": [],
   "source": [
    "!pip install manot"
   ],
   "metadata": {
    "collapsed": false
   }
  },
  {
   "cell_type": "markdown",
   "source": [
    "# Importing manot"
   ],
   "metadata": {
    "collapsed": false
   }
  },
  {
   "cell_type": "code",
   "execution_count": null,
   "outputs": [],
   "source": [
    "from manot import manotAI"
   ],
   "metadata": {
    "collapsed": false
   }
  },
  {
   "cell_type": "markdown",
   "source": [
    "**manot API** : https://api.manot.ai/api-documentation/v1"
   ],
   "metadata": {
    "collapsed": false
   }
  },
  {
   "cell_type": "code",
   "execution_count": null,
   "id": "4cafe4d6",
   "metadata": {},
   "outputs": [],
   "source": [
    "manot = manotAI(\"manot_service_url\", \"token\")"
   ]
  },
  {
   "cell_type": "markdown",
   "source": [
    "# Creating setup process"
   ],
   "metadata": {
    "collapsed": false
   }
  },
  {
   "cell_type": "code",
   "execution_count": null,
   "id": "57e9a1ca",
   "metadata": {},
   "outputs": [],
   "source": [
    "setup = manot.setup(\n",
    "    name=\"setup_example\",\n",
    "    images_path=\"/path/to/images\",\n",
    "    ground_truths_path=\"/path/to/ground_truths\",\n",
    "    detections_path=\"/path/to/detections\",\n",
    "    detections_metadata_format=\"xyx2y2\",  # it must be one of \"xyx2y2\", \"xywh\", or \"cxcywh\"\n",
    "    classes_txt_path=\"/path/to/classes.txt\",\n",
    "    data_provider=\"local\"  # it must be \"s3\" or \"local\"\n",
    ")\n",
    "setup"
   ]
  },
  {
   "cell_type": "code",
   "execution_count": null,
   "id": "1c82147b",
   "metadata": {},
   "outputs": [],
   "source": [
    "# Get information about setup process\n",
    "setup = manot.get_setup(setup[\"id\"])\n",
    "setup"
   ]
  },
  {
   "cell_type": "markdown",
   "source": [
    "# Creating insight process"
   ],
   "metadata": {
    "collapsed": false
   }
  },
  {
   "cell_type": "code",
   "execution_count": null,
   "id": "6fe86d44",
   "metadata": {},
   "outputs": [],
   "source": [
    "insight = manot.insight(\n",
    "    name=\"insight_example\",\n",
    "    setup_id=setup[\"id\"],\n",
    "    data_path=\"/path/to/data\",\n",
    "    data_provider=\"local\"  # it must be \"s3\" or \"local\"\n",
    ")\n",
    "insight"
   ]
  },
  {
   "cell_type": "code",
   "execution_count": null,
   "id": "f3eb2c5b",
   "metadata": {},
   "outputs": [],
   "source": [
    "# Get information about insight process\n",
    "insight = manot.get_insight(insight[\"id\"])\n",
    "insight"
   ]
  },
  {
   "cell_type": "markdown",
   "source": [
    "## Show results of insight process"
   ],
   "metadata": {
    "collapsed": false
   }
  },
  {
   "cell_type": "code",
   "execution_count": null,
   "id": "c9579604",
   "metadata": {
    "scrolled": true
   },
   "outputs": [],
   "source": [
    "manot.visualize_data_set(insight['data_set']['id'])"
   ]
  },
  {
   "cell_type": "markdown",
   "source": [
    "## Upload data to start process"
   ],
   "metadata": {
    "collapsed": false
   }
  },
  {
   "cell_type": "code",
   "execution_count": null,
   "outputs": [],
   "source": [
    "# Upload data for Setup or Insights process\n",
    "manot.upload_data(dir_path=\"/path/to/data\", process=\"process_name\")\n",
    "\n",
    "# For Setup process dir_path must contain images, detections, and ground_truths folders and classes.txt file and process must be \"setup\"\n",
    "# For Insight process dir_path must contain data, which formats must be \".jpeg\", \".jpg\", \".png\", \".avi\", \".gif\", \".m4v\", \".mkv\" or \".mp4\" and process must be \"insight\""
   ],
   "metadata": {
    "collapsed": false
   }
  },
  {
   "cell_type": "markdown",
   "source": [
    "## Calculate mAP"
   ],
   "metadata": {
    "collapsed": false
   }
  },
  {
   "cell_type": "code",
   "execution_count": null,
   "outputs": [],
   "source": [
    "manot.calculate_map(\n",
    "    ground_truths_path=\"/path/to/ground_truths\",\n",
    "    detections_path=\"/path/to/detections\",\n",
    "    classes_txt_path=\"/path/to/classes.txt\",\n",
    "    data_provider=\"local\",  # it must be \"s3\" or \"local\"\n",
    "    data_set_id=\"data_set_id\",  # if data_set_id is provided will calculate mAP only on selected data, otherwise will calculate mAP on all the data\n",
    ")"
   ],
   "metadata": {
    "collapsed": false
   }
  }
 ],
 "metadata": {
  "kernelspec": {
   "display_name": "Python 3 (ipykernel)",
   "language": "python",
   "name": "python3"
  },
  "language_info": {
   "codemirror_mode": {
    "name": "ipython",
    "version": 3
   },
   "file_extension": ".py",
   "mimetype": "text/x-python",
   "name": "python",
   "nbconvert_exporter": "python",
   "pygments_lexer": "ipython3",
   "version": "3.9.13"
  }
 },
 "nbformat": 4,
 "nbformat_minor": 5
}
