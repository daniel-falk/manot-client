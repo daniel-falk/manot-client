{
 "cells": [
  {
   "cell_type": "markdown",
   "source": [
    "# Installing manot"
   ],
   "metadata": {
    "collapsed": false
   }
  },
  {
   "cell_type": "code",
   "execution_count": null,
   "outputs": [],
   "source": [
    "!pip install manot"
   ],
   "metadata": {
    "collapsed": false
   }
  },
  {
   "cell_type": "markdown",
   "source": [
    "# Importing manot"
   ],
   "metadata": {
    "collapsed": false
   }
  },
  {
   "cell_type": "code",
   "execution_count": null,
   "outputs": [],
   "source": [
    "from manot import Manot"
   ],
   "metadata": {
    "collapsed": false
   }
  },
  {
   "cell_type": "markdown",
   "source": [
    "**manot API** : https://api.manot.ai/api-documentation/v1"
   ],
   "metadata": {
    "collapsed": false
   }
  },
  {
   "cell_type": "code",
   "execution_count": null,
   "id": "4cafe4d6",
   "metadata": {},
   "outputs": [],
   "source": [
    "manot = Manot(\"manot_service_url\", \"token\")"
   ]
  },
  {
   "cell_type": "markdown",
   "source": [
    "# Creating setup process"
   ],
   "metadata": {
    "collapsed": false
   }
  },
  {
   "cell_type": "code",
   "execution_count": null,
   "id": "57e9a1ca",
   "metadata": {},
   "outputs": [],
   "source": [
    "setup = manot.setup(\n",
    "    name=\"setup_example\",\n",
    "    images_path=\"/path/to/images\",\n",
    "    ground_truths_path=\"/path/to/labels\",\n",
    "    detections_path=\"/path/to/detections\",\n",
    "    detections_metadata_format=\"xyx2y2\",  # it must be one of \"xyx2y2\", \"xywh\", or \"cxcywh\"\n",
    "    classes_txt_path=\"/path/to/classes.txt\",\n",
    "    data_provider=\"local\"  # it must be \"s3\" or \"local\"\n",
    ")\n",
    "setup"
   ]
  },
  {
   "cell_type": "code",
   "execution_count": null,
   "id": "1c82147b",
   "metadata": {},
   "outputs": [],
   "source": [
    "# Get information about setup process\n",
    "setup = manot.get_setup(setup[\"id\"])\n",
    "setup"
   ]
  },
  {
   "cell_type": "markdown",
   "source": [
    "# Creating insight process"
   ],
   "metadata": {
    "collapsed": false
   }
  },
  {
   "cell_type": "code",
   "execution_count": null,
   "id": "6fe86d44",
   "metadata": {},
   "outputs": [],
   "source": [
    "insight = manot.insight(\n",
    "    name=\"insight_example\",\n",
    "    setup_id=setup[\"id\"],\n",
    "    data_path=\"/path/to/data\",\n",
    "    data_provider=\"local\"  # it must be \"s3\" or \"local\"\n",
    ")\n",
    "insight"
   ]
  },
  {
   "cell_type": "code",
   "execution_count": null,
   "id": "f3eb2c5b",
   "metadata": {},
   "outputs": [],
   "source": [
    "# Get information about insight process\n",
    "insight = manot.get_insight(insight[\"id\"])\n",
    "insight"
   ]
  },
  {
   "cell_type": "markdown",
   "source": [
    "## Show results of insight process"
   ],
   "metadata": {
    "collapsed": false
   }
  },
  {
   "cell_type": "code",
   "execution_count": null,
   "id": "c9579604",
   "metadata": {
    "scrolled": true
   },
   "outputs": [],
   "source": [
    "manot.visualize_data_set(insight['data_set']['id'])"
   ]
  }
 ],
 "metadata": {
  "kernelspec": {
   "display_name": "Python 3 (ipykernel)",
   "language": "python",
   "name": "python3"
  },
  "language_info": {
   "codemirror_mode": {
    "name": "ipython",
    "version": 3
   },
   "file_extension": ".py",
   "mimetype": "text/x-python",
   "name": "python",
   "nbconvert_exporter": "python",
   "pygments_lexer": "ipython3",
   "version": "3.9.13"
  }
 },
 "nbformat": 4,
 "nbformat_minor": 5
}
